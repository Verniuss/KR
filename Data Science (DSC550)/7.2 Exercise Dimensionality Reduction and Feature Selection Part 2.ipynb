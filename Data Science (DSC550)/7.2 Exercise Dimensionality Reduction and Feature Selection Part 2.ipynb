{
 "cells": [
  {
   "cell_type": "code",
   "execution_count": 1,
   "id": "5297c23a",
   "metadata": {},
   "outputs": [
    {
     "name": "stdout",
     "output_type": "stream",
     "text": [
      "  class cap-shape cap-surface cap-color bruises odor gill-attachment   \n",
      "0     p         x           s         n       t    p               f  \\\n",
      "1     e         x           s         y       t    a               f   \n",
      "2     e         b           s         w       t    l               f   \n",
      "3     p         x           y         w       t    p               f   \n",
      "4     e         x           s         g       f    n               f   \n",
      "\n",
      "  gill-spacing gill-size gill-color  ... stalk-surface-below-ring   \n",
      "0            c         n          k  ...                        s  \\\n",
      "1            c         b          k  ...                        s   \n",
      "2            c         b          n  ...                        s   \n",
      "3            c         n          n  ...                        s   \n",
      "4            w         b          k  ...                        s   \n",
      "\n",
      "  stalk-color-above-ring stalk-color-below-ring veil-type veil-color   \n",
      "0                      w                      w         p          w  \\\n",
      "1                      w                      w         p          w   \n",
      "2                      w                      w         p          w   \n",
      "3                      w                      w         p          w   \n",
      "4                      w                      w         p          w   \n",
      "\n",
      "  ring-number ring-type spore-print-color population habitat  \n",
      "0           o         p                 k          s       u  \n",
      "1           o         p                 n          n       g  \n",
      "2           o         p                 n          n       m  \n",
      "3           o         p                 k          s       u  \n",
      "4           o         e                 n          a       g  \n",
      "\n",
      "[5 rows x 23 columns]\n"
     ]
    }
   ],
   "source": [
    "#1 Import the data as a data frame and ensure it is loaded correctly.\n",
    "\n",
    "import pandas as pd\n",
    "\n",
    "# Load the data into a Pandas DataFrame\n",
    "data_url = \"https://drive.google.com/file/d/1wi-6HjFe9bz7qB0h9prdIay02mSrBK0c/view?usp=sharing\"\n",
    "file_id = data_url.split(\"/\")[-2]\n",
    "csv_url = f\"https://drive.google.com/uc?id={file_id}\"\n",
    "df = pd.read_csv(csv_url)\n",
    "\n",
    "# Verify that the data was loaded correctly\n",
    "print(df.head())"
   ]
  },
  {
   "cell_type": "code",
   "execution_count": 2,
   "id": "d3290e22",
   "metadata": {},
   "outputs": [
    {
     "data": {
      "text/plain": [
       "Index(['class', 'cap-shape', 'cap-surface', 'cap-color', 'bruises', 'odor',\n",
       "       'gill-attachment', 'gill-spacing', 'gill-size', 'gill-color',\n",
       "       'stalk-shape', 'stalk-root', 'stalk-surface-above-ring',\n",
       "       'stalk-surface-below-ring', 'stalk-color-above-ring',\n",
       "       'stalk-color-below-ring', 'veil-type', 'veil-color', 'ring-number',\n",
       "       'ring-type', 'spore-print-color', 'population', 'habitat'],\n",
       "      dtype='object')"
      ]
     },
     "execution_count": 2,
     "metadata": {},
     "output_type": "execute_result"
    }
   ],
   "source": [
    "df.columns\n"
   ]
  },
  {
   "cell_type": "code",
   "execution_count": 3,
   "id": "33237065",
   "metadata": {},
   "outputs": [],
   "source": [
    "#2 Convert the categorical features (all of them) to dummy variables.\n",
    "\n",
    "# Convert all categorical features to dummy variables\n",
    "df = pd.get_dummies(df)"
   ]
  },
  {
   "cell_type": "code",
   "execution_count": 4,
   "id": "d4c971b6",
   "metadata": {},
   "outputs": [
    {
     "name": "stderr",
     "output_type": "stream",
     "text": [
      "C:\\Users\\Kyle\\anaconda3\\lib\\site-packages\\scipy\\__init__.py:138: UserWarning: A NumPy version >=1.16.5 and <1.23.0 is required for this version of SciPy (detected version 1.24.2)\n",
      "  warnings.warn(f\"A NumPy version >={np_minversion} and <{np_maxversion} is required for this version of \"\n"
     ]
    }
   ],
   "source": [
    "#3 Split the data into a training and test set.\n",
    "\n",
    "from sklearn.model_selection import train_test_split\n",
    "\n",
    "# Split the data into training and test sets\n",
    "X = df.drop('class_e', axis=1)\n",
    "y = df['class_e']\n",
    "X_train, X_test, y_train, y_test = train_test_split(X, y, test_size=0.2, random_state=42)"
   ]
  },
  {
   "cell_type": "code",
   "execution_count": 5,
   "id": "f6f76fb8",
   "metadata": {},
   "outputs": [
    {
     "data": {
      "text/plain": [
       "DecisionTreeClassifier(random_state=42)"
      ]
     },
     "execution_count": 5,
     "metadata": {},
     "output_type": "execute_result"
    }
   ],
   "source": [
    "#4 Fit a decision tree classifier on the training set.\n",
    "\n",
    "from sklearn.tree import DecisionTreeClassifier\n",
    "\n",
    "# Create a decision tree classifier and fit it to the training data\n",
    "dtc = DecisionTreeClassifier(random_state=42)\n",
    "dtc.fit(X_train, y_train)"
   ]
  },
  {
   "cell_type": "code",
   "execution_count": 6,
   "id": "e4828e3e",
   "metadata": {},
   "outputs": [
    {
     "name": "stdout",
     "output_type": "stream",
     "text": [
      "Accuracy: 1.00\n",
      "Confusion matrix:\n",
      "[[782   0]\n",
      " [  0 843]]\n"
     ]
    }
   ],
   "source": [
    "#5 Report the accuracy and create a confusion matrix for the model prediction on the test set.\n",
    "\n",
    "from sklearn.metrics import accuracy_score, confusion_matrix\n",
    "\n",
    "# Make predictions on the test set and evaluate the model's accuracy\n",
    "y_pred = dtc.predict(X_test)\n",
    "accuracy = accuracy_score(y_test, y_pred)\n",
    "print(f\"Accuracy: {accuracy:.2f}\")\n",
    "\n",
    "# Create a confusion matrix to further evaluate the model's performance\n",
    "cm = confusion_matrix(y_test, y_pred)\n",
    "print(f\"Confusion matrix:\\n{cm}\")"
   ]
  },
  {
   "cell_type": "code",
   "execution_count": 7,
   "id": "51de82e9",
   "metadata": {},
   "outputs": [
    {
     "data": {
      "image/png": "[encoded data removed]",
      "text/plain": [
       "<Figure size 2000x1000 with 1 Axes>"
      ]
     },
     "metadata": {},
     "output_type": "display_data"
    }
   ],
   "source": [
    "#6 Create a visualization of the decision tree.\n",
    "\n",
    "from sklearn.tree import plot_tree\n",
    "import matplotlib.pyplot as plt\n",
    "\n",
    "# Visualize the decision tree\n",
    "plt.figure(figsize=(20,10))\n",
    "plot_tree(dtc, filled=True, feature_names=X.columns, class_names=[\"0\", \"1\"], fontsize=10)\n",
    "plt.show()"
   ]
  },
  {
   "cell_type": "code",
   "execution_count": 8,
   "id": "84f1ed42",
   "metadata": {},
   "outputs": [
    {
     "data": {
      "text/plain": [
       "SelectKBest(k=5, score_func=<function chi2 at 0x000001CF9383AE50>)"
      ]
     },
     "execution_count": 8,
     "metadata": {},
     "output_type": "execute_result"
    }
   ],
   "source": [
    "#7 Use a χ2-statistic selector to pick the five best features for this data \n",
    "# (see section 10.4 of the Machine Learning with Python Cookbook).\n",
    "\n",
    "from sklearn.feature_selection import SelectKBest, chi2\n",
    "\n",
    "# Use chi2-statistic selector to select the five best features\n",
    "selector = SelectKBest(chi2, k=5)\n",
    "selector.fit(X_train, y_train)"
   ]
  },
  {
   "cell_type": "code",
   "execution_count": 9,
   "id": "12ea1b4a",
   "metadata": {},
   "outputs": [
    {
     "name": "stdout",
     "output_type": "stream",
     "text": [
      "Selected features: ['class_p', 'odor_f', 'odor_n', 'stalk-surface-above-ring_k', 'stalk-surface-below-ring_k']\n"
     ]
    }
   ],
   "source": [
    "#8 Which five features were selected in step 7? Hint: Use the get_support function.\n",
    "\n",
    "# Print the names of the five best features\n",
    "feature_names = X.columns[selector.get_support()]\n",
    "print(f\"Selected features: {list(feature_names)}\")"
   ]
  },
  {
   "cell_type": "code",
   "execution_count": 10,
   "id": "aeec7111",
   "metadata": {},
   "outputs": [
    {
     "data": {
      "text/plain": [
       "DecisionTreeClassifier(random_state=42)"
      ]
     },
     "execution_count": 10,
     "metadata": {},
     "output_type": "execute_result"
    }
   ],
   "source": [
    "#9 Repeat steps 4 and 5 with the five best features selected in step 7.\n",
    "\n",
    "# Fit a decision tree classifier on the training data with only the five best features\n",
    "X_train_sel = selector.transform(X_train)\n",
    "X_test_sel = selector.transform(X_test)\n",
    "dtc_sel = DecisionTreeClassifier(random_state=42)\n",
    "dtc_sel.fit(X_train_sel, y_train)"
   ]
  },
  {
   "cell_type": "code",
   "execution_count": 11,
   "id": "55e161e7",
   "metadata": {},
   "outputs": [
    {
     "name": "stdout",
     "output_type": "stream",
     "text": [
      "Accuracy with selected features: 1.00\n",
      "Confusion matrix with selected features:\n",
      "[[782   0]\n",
      " [  0 843]]\n"
     ]
    }
   ],
   "source": [
    "# Make predictions on the test set and evaluate the model\n",
    "y_pred_sel = dtc_sel.predict(X_test_sel)\n",
    "accuracy_sel = accuracy_score(y_test, y_pred_sel)\n",
    "cm_sel = confusion_matrix(y_test, y_pred_sel)\n",
    "print(f\"Accuracy with selected features: {accuracy_sel:.2f}\")\n",
    "print(f\"Confusion matrix with selected features:\\n{cm_sel}\")"
   ]
  },
  {
   "cell_type": "code",
   "execution_count": 12,
   "id": "93df97c6",
   "metadata": {},
   "outputs": [],
   "source": [
    "# Summarize your findings.\n",
    "\n",
    "## The results show that the decision tree classifier trained with the selected five \n",
    "## features achieved perfect accuracy on the test set. The confusion matrix indicates that \n",
    "## the model made no errors in predicting the class labels of the test instances, as there \n",
    "## are no misclassifications shown. This suggests that the selected features contain sufficient \n",
    "## information to accurately distinguish between the two classes in the data. However, such high \n",
    "## accuracy is uncommon and might indicate that the model is overfitting to the training data. "
   ]
  },
  {
   "cell_type": "code",
   "execution_count": null,
   "id": "cd5f46e2",
   "metadata": {},
   "outputs": [],
   "source": []
  }
 ],
 "metadata": {
  "kernelspec": {
   "display_name": "Python 3 (ipykernel)",
   "language": "python",
   "name": "python3"
  },
  "language_info": {
   "codemirror_mode": {
    "name": "ipython",
    "version": 3
   },
   "file_extension": ".py",
   "mimetype": "text/x-python",
   "name": "python",
   "nbconvert_exporter": "python",
   "pygments_lexer": "ipython3",
   "version": "3.8.8"
  }
 },
 "nbformat": 4,
 "nbformat_minor": 5
}
