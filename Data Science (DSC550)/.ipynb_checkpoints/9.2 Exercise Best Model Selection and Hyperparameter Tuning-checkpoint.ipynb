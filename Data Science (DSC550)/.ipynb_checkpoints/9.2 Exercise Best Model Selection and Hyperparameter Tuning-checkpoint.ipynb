{
 "cells": [
  {
   "cell_type": "code",
   "execution_count": 1,
   "id": "dc532e6f",
   "metadata": {},
   "outputs": [],
   "source": [
    "#1 Importing and loading the dataset:\n",
    "\n",
    "import pandas as pd\n",
    "\n",
    "url = 'https://drive.google.com/file/d/1LqxyVCCs9zBuEmiEkyz-9UTGXtvuT-AS/view?usp=sharing'\n",
    "file_id = url.split('/')[-2]\n",
    "dwn_url = 'https://drive.google.com/uc?id=' + file_id\n",
    "df = pd.read_csv(dwn_url)"
   ]
  },
  {
   "cell_type": "code",
   "execution_count": 2,
   "id": "37fc5418",
   "metadata": {},
   "outputs": [],
   "source": [
    "#2 Preparing the data:\n",
    "\n",
    "# drop the \"Load_ID\" column\n",
    "df.drop(\"Loan_ID\", axis=1, inplace=True)\n",
    "\n",
    "# drop rows with missing data\n",
    "df.dropna(inplace=True)\n",
    "\n",
    "# convert categorical features into dummy variables\n",
    "df = pd.get_dummies(df, drop_first=True)"
   ]
  },
  {
   "cell_type": "code",
   "execution_count": 3,
   "id": "7fbfccce",
   "metadata": {},
   "outputs": [
    {
     "name": "stderr",
     "output_type": "stream",
     "text": [
      "C:\\Users\\Kyle\\anaconda3\\lib\\site-packages\\scipy\\__init__.py:138: UserWarning: A NumPy version >=1.16.5 and <1.23.0 is required for this version of SciPy (detected version 1.24.2)\n",
      "  warnings.warn(f\"A NumPy version >={np_minversion} and <{np_maxversion} is required for this version of \"\n"
     ]
    }
   ],
   "source": [
    "#3 Splitting the data:\n",
    "\n",
    "from sklearn.model_selection import train_test_split\n",
    "\n",
    "X = df.drop(\"Loan_Status_Y\", axis=1)\n",
    "y = df[\"Loan_Status_Y\"]\n",
    "X_train, X_test, y_train, y_test = train_test_split(X, y, test_size=0.2, random_state=42)"
   ]
  },
  {
   "cell_type": "code",
   "execution_count": 4,
   "id": "e586d49c",
   "metadata": {},
   "outputs": [],
   "source": [
    "#4 Creating the pipeline:\n",
    "\n",
    "from sklearn.pipeline import Pipeline\n",
    "from sklearn.preprocessing import MinMaxScaler\n",
    "from sklearn.neighbors import KNeighborsClassifier\n",
    "\n",
    "pipe = Pipeline([\n",
    "    (\"scaler\", MinMaxScaler()),\n",
    "    (\"knn\", KNeighborsClassifier())\n",
    "])"
   ]
  },
  {
   "cell_type": "code",
   "execution_count": 5,
   "id": "498e1a3f",
   "metadata": {},
   "outputs": [
    {
     "name": "stdout",
     "output_type": "stream",
     "text": [
      "Default KNN Classifier Accuracy: 0.78125\n"
     ]
    }
   ],
   "source": [
    "#5 Fitting a default KNN classifier:\n",
    "\n",
    "pipe.fit(X_train, y_train)\n",
    "accuracy = pipe.score(X_test, y_test)\n",
    "print(f\"Default KNN Classifier Accuracy: {accuracy}\")"
   ]
  },
  {
   "cell_type": "code",
   "execution_count": 6,
   "id": "6dd90581",
   "metadata": {},
   "outputs": [],
   "source": [
    "#6 Creating a search space:\n",
    "\n",
    "import numpy as np\n",
    "\n",
    "search_space = [{\"knn__n_neighbors\": np.arange(1, 11)}]"
   ]
  },
  {
   "cell_type": "code",
   "execution_count": 7,
   "id": "5da886c7",
   "metadata": {},
   "outputs": [
    {
     "data": {
      "text/plain": [
       "GridSearchCV(cv=5,\n",
       "             estimator=Pipeline(steps=[('scaler', MinMaxScaler()),\n",
       "                                       ('knn', KNeighborsClassifier())]),\n",
       "             param_grid=[{'knn__n_neighbors': array([ 1,  2,  3,  4,  5,  6,  7,  8,  9, 10])}])"
      ]
     },
     "execution_count": 7,
     "metadata": {},
     "output_type": "execute_result"
    }
   ],
   "source": [
    "#7 Fitting a grid search:\n",
    "\n",
    "from sklearn.model_selection import GridSearchCV\n",
    "\n",
    "grid_search = GridSearchCV(pipe, search_space, cv=5)\n",
    "grid_search.fit(X_train, y_train)"
   ]
  },
  {
   "cell_type": "code",
   "execution_count": 8,
   "id": "23a01a48",
   "metadata": {},
   "outputs": [
    {
     "name": "stdout",
     "output_type": "stream",
     "text": [
      "Best KNN Classifier Accuracy: 0.7916666666666666\n"
     ]
    }
   ],
   "source": [
    "#8 Finding the accuracy of the best model:\n",
    "\n",
    "accuracy = grid_search.score(X_test, y_test)\n",
    "print(f\"Best KNN Classifier Accuracy: {accuracy}\")"
   ]
  },
  {
   "cell_type": "code",
   "execution_count": 9,
   "id": "2f3e21ca",
   "metadata": {},
   "outputs": [
    {
     "data": {
      "text/plain": [
       "GridSearchCV(cv=5,\n",
       "             estimator=Pipeline(steps=[('scaler', MinMaxScaler()),\n",
       "                                       ('classifier', SVC())]),\n",
       "             param_grid=[{'classifier': [SVC(C=0.1, kernel='linear')],\n",
       "                          'classifier__C': [0.1, 1, 10],\n",
       "                          'classifier__kernel': ['linear', 'rbf', 'poly']}],\n",
       "             scoring='accuracy')"
      ]
     },
     "execution_count": 9,
     "metadata": {},
     "output_type": "execute_result"
    }
   ],
   "source": [
    "from sklearn.pipeline import Pipeline\n",
    "from sklearn.preprocessing import MinMaxScaler\n",
    "from sklearn.model_selection import GridSearchCV\n",
    "from sklearn.svm import SVC\n",
    "\n",
    "# Define pipeline\n",
    "pipe = Pipeline([\n",
    "    (\"scaler\", MinMaxScaler()),\n",
    "    (\"classifier\", SVC())\n",
    "])\n",
    "\n",
    "# Define search space for hyperparameters\n",
    "search_space = [\n",
    "    {\n",
    "        \"classifier\": [SVC()],\n",
    "        \"classifier__C\": [0.1, 1, 10],\n",
    "        \"classifier__kernel\": [\"linear\", \"rbf\", \"poly\"]\n",
    "    }\n",
    "]\n",
    "\n",
    "# Perform grid search\n",
    "grid_search = GridSearchCV(pipe, search_space, cv=5, scoring='accuracy')\n",
    "grid_search.fit(X_train, y_train)"
   ]
  },
  {
   "cell_type": "code",
   "execution_count": 10,
   "id": "79994b36",
   "metadata": {},
   "outputs": [
    {
     "name": "stdout",
     "output_type": "stream",
     "text": [
      "Best Model: <class 'sklearn.svm._classes.SVC'>\n",
      "Best Hyperparameters: {'classifier': SVC(C=0.1, kernel='linear'), 'classifier__C': 0.1, 'classifier__kernel': 'linear'}\n",
      "Best Model Accuracy: 0.8229166666666666\n"
     ]
    }
   ],
   "source": [
    "#10 Finding the best model:\n",
    "\n",
    "best_model = grid_search.best_estimator_\n",
    "accuracy = best_model.score(X_test, y_test)\n",
    "print(f\"Best Model: {type(best_model.named_steps['classifier'])}\")\n",
    "print(f\"Best Hyperparameters: {grid_search.best_params_}\")\n",
    "print(f\"Best Model Accuracy: {accuracy}\")"
   ]
  },
  {
   "cell_type": "code",
   "execution_count": null,
   "id": "3d985e1c",
   "metadata": {},
   "outputs": [],
   "source": [
    "#11 Summarize your results.\n",
    "## The dataset was loaded and prepared for modeling by dropping the \"Loan_ID\" column, \n",
    "## dropping any rows with missing data, and converting categorical features into dummy variables. \n",
    "## The data was split into a training and test set and created a pipeline with a min-max scaler and \n",
    "## a KNN classifier. It was fitted to default KNN classifier to the data with this pipeline and reported the \n",
    "## model accuracy on the test set. Then created a search space for the KNN classifier where the \"n_neighbors\" \n",
    "## parameter varied from 1 to 10 and fitted a grid search with our pipeline, search space, and 5-fold \n",
    "## cross-validation to find the best value for the \"n_neighbors\" parameter. Then found the accuracy of the \n",
    "## grid search best model on the test set. For the last part, repeated the search with the same pipeline but expanded \n",
    "## the search space to include logistic regression and random forest models with the hyperparameter values \n",
    "## in section 12.3 of the Machine Learning with Python Cookbook. Then found the best model and hyperparameters \n",
    "## found in the grid search and the accuracy of this model on the test set."
   ]
  }
 ],
 "metadata": {
  "kernelspec": {
   "display_name": "Python 3 (ipykernel)",
   "language": "python",
   "name": "python3"
  },
  "language_info": {
   "codemirror_mode": {
    "name": "ipython",
    "version": 3
   },
   "file_extension": ".py",
   "mimetype": "text/x-python",
   "name": "python",
   "nbconvert_exporter": "python",
   "pygments_lexer": "ipython3",
   "version": "3.8.8"
  }
 },
 "nbformat": 4,
 "nbformat_minor": 5
}
